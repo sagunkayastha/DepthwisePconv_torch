{
 "cells": [
  {
   "cell_type": "code",
   "execution_count": 1,
   "metadata": {},
   "outputs": [],
   "source": [
    "import numpy as np"
   ]
  },
  {
   "cell_type": "code",
   "execution_count": 2,
   "metadata": {},
   "outputs": [],
   "source": [
    "arr = np.load('in.npy')"
   ]
  },
  {
   "cell_type": "code",
   "execution_count": 3,
   "metadata": {},
   "outputs": [],
   "source": [
    "numpy_array = arr.transpose(0,1,4,2,3)\n"
   ]
  },
  {
   "cell_type": "code",
   "execution_count": 17,
   "metadata": {},
   "outputs": [],
   "source": [
    "out = np.load('out.npy')\n",
    "out = out.transpose(0,3,1,2)"
   ]
  },
  {
   "cell_type": "code",
   "execution_count": 18,
   "metadata": {},
   "outputs": [
    {
     "data": {
      "text/plain": [
       "(8000, 1, 512, 512)"
      ]
     },
     "execution_count": 18,
     "metadata": {},
     "output_type": "execute_result"
    }
   ],
   "source": [
    "out.shape"
   ]
  },
  {
   "cell_type": "code",
   "execution_count": 4,
   "metadata": {},
   "outputs": [],
   "source": [
    "import os\n",
    "import torch\n",
    "import numpy as np\n",
    "import torch.nn as nn\n",
    "from tqdm import tqdm   \n",
    "import torch.nn.functional as F\n",
    "\n",
    "from models.PConv_model import PConvUNet\n",
    "from data_prep import Data_prep\n",
    "from net import VGG16FeatureExtractor\n",
    "from loss import InpaintingLoss, IOA_Loss\n",
    "from torch.utils.data import TensorDataset, DataLoader, random_split\n",
    "from tensorboardX import SummaryWriter\n",
    "from torch.utils import data\n",
    "import yaml\n",
    "\n",
    "from util.io import load_ckpt\n",
    "from util.io import save_ckpt\n",
    "from torchvision.utils import make_grid\n",
    "from torchvision.utils import save_image\n",
    "import matplotlib.pyplot as plt"
   ]
  },
  {
   "cell_type": "code",
   "execution_count": 5,
   "metadata": {},
   "outputs": [
    {
     "data": {
      "text/plain": [
       "(2, 8000, 3, 512, 512)"
      ]
     },
     "execution_count": 5,
     "metadata": {},
     "output_type": "execute_result"
    }
   ],
   "source": [
    "numpy_array.shape"
   ]
  },
  {
   "cell_type": "code",
   "execution_count": 26,
   "metadata": {},
   "outputs": [],
   "source": [
    "import torch\n",
    "from torch.utils.data import Dataset, DataLoader\n",
    "import numpy as np\n",
    "\n",
    "class ImageMaskDataset(Dataset):\n",
    "    def __init__(self, data_array, out, transform=None):\n",
    "        self.data_array = data_array\n",
    "        self.transform = transform\n",
    "        self.out = out\n",
    "\n",
    "    def __len__(self):\n",
    "        return self.data_array.shape[1]\n",
    "\n",
    "    def __getitem__(self, idx):\n",
    "        image = self.data_array[0, idx]\n",
    "        mask = self.data_array[1, idx]\n",
    "        out = self.out[idx]\n",
    "        if self.transform:\n",
    "            image = self.transform(image)\n",
    "            mask = self.transform(mask)\n",
    "        return image, mask, out\n",
    "\n",
    "from torch.utils.data.sampler import Sampler\n",
    "\n",
    "class InfiniteSampler(Sampler):\n",
    "    def __init__(self, num_samples):\n",
    "        self.num_samples = num_samples\n",
    "\n",
    "    def __iter__(self):\n",
    "        return iter(self.loop())\n",
    "\n",
    "    def loop(self):\n",
    "        i = 0\n",
    "        order = np.random.permutation(self.num_samples)\n",
    "        while True:\n",
    "            yield order[i]\n",
    "            i += 1\n",
    "            if i >= self.num_samples:\n",
    "                np.random.seed()\n",
    "                order = np.random.permutation(self.num_samples)\n",
    "                i = 0\n"
   ]
  },
  {
   "cell_type": "code",
   "execution_count": 27,
   "metadata": {},
   "outputs": [],
   "source": [
    "\n",
    "\n",
    "# Assuming `main_array` is your input array\n",
    "dataset = ImageMaskDataset(data_array=numpy_array,out=out)\n",
    "\n",
    "dataloader = DataLoader(\n",
    "    dataset, \n",
    "    batch_size=4, \n",
    "    sampler=InfiniteSampler(len(dataset)), \n",
    "    num_workers=4  # Adjust as per your computational resources\n",
    ")\n"
   ]
  },
  {
   "cell_type": "code",
   "execution_count": 28,
   "metadata": {},
   "outputs": [
    {
     "data": {
      "text/plain": [
       "<torch.utils.data.dataloader.DataLoader at 0x7f54f119ad30>"
      ]
     },
     "execution_count": 28,
     "metadata": {},
     "output_type": "execute_result"
    }
   ],
   "source": [
    "\n",
    "dataloader"
   ]
  },
  {
   "cell_type": "code",
   "execution_count": 29,
   "metadata": {},
   "outputs": [],
   "source": [
    "img = next(iter(dataloader))"
   ]
  },
  {
   "cell_type": "code",
   "execution_count": 30,
   "metadata": {},
   "outputs": [
    {
     "data": {
      "text/plain": [
       "(torch.Size([4, 3, 512, 512]), torch.Size([4, 3, 512, 512]))"
      ]
     },
     "execution_count": 30,
     "metadata": {},
     "output_type": "execute_result"
    }
   ],
   "source": [
    "img[0].shape, img[1].shape"
   ]
  },
  {
   "cell_type": "code",
   "execution_count": 32,
   "metadata": {},
   "outputs": [
    {
     "data": {
      "text/plain": [
       "torch.Size([4, 1, 512, 512])"
      ]
     },
     "execution_count": 32,
     "metadata": {},
     "output_type": "execute_result"
    }
   ],
   "source": [
    "img[2].shape"
   ]
  },
  {
   "cell_type": "code",
   "execution_count": 36,
   "metadata": {},
   "outputs": [],
   "source": [
    "full_dataset = ImageMaskDataset(data_array=numpy_array, out=out)\n",
    "train_size = int(0.8 * len(full_dataset))\n",
    "eval_size = len(full_dataset) - train_size\n",
    "train_dataset, eval_dataset = random_split(full_dataset, [train_size, eval_size])\n",
    "        \n",
    "train_dataloader = DataLoader(\n",
    "    train_dataset, \n",
    "    4, \n",
    "    sampler=InfiniteSampler(len(train_dataset)), \n",
    "    num_workers=10  \n",
    ")\n",
    "\n",
    "\n",
    "# Creating the eval DataLoader\n",
    "eval_dataloader = DataLoader(\n",
    "    eval_dataset, batch_size=4,\n",
    "    # No need for the InfiniteSampler for evaluation\n",
    "    shuffle=False,\n",
    "    num_workers=10)"
   ]
  },
  {
   "cell_type": "code",
   "execution_count": 38,
   "metadata": {},
   "outputs": [
    {
     "ename": "TypeError",
     "evalue": "object of type 'InfiniteSampler' has no len()",
     "output_type": "error",
     "traceback": [
      "\u001b[0;31m---------------------------------------------------------------------------\u001b[0m",
      "\u001b[0;31mTypeError\u001b[0m                                 Traceback (most recent call last)",
      "Cell \u001b[0;32mIn[38], line 1\u001b[0m\n\u001b[0;32m----> 1\u001b[0m \u001b[38;5;28;43mlen\u001b[39;49m\u001b[43m(\u001b[49m\u001b[43mtrain_dataloader\u001b[49m\u001b[43m)\u001b[49m\n",
      "File \u001b[0;32m/tng4/users/skayasth/envs/pt/lib/python3.9/site-packages/torch/utils/data/dataloader.py:487\u001b[0m, in \u001b[0;36mDataLoader.__len__\u001b[0;34m(self)\u001b[0m\n\u001b[1;32m    485\u001b[0m     \u001b[38;5;28;01mreturn\u001b[39;00m length\n\u001b[1;32m    486\u001b[0m \u001b[38;5;28;01melse\u001b[39;00m:\n\u001b[0;32m--> 487\u001b[0m     \u001b[38;5;28;01mreturn\u001b[39;00m \u001b[38;5;28;43mlen\u001b[39;49m\u001b[43m(\u001b[49m\u001b[38;5;28;43mself\u001b[39;49m\u001b[38;5;241;43m.\u001b[39;49m\u001b[43m_index_sampler\u001b[49m\u001b[43m)\u001b[49m\n",
      "File \u001b[0;32m/tng4/users/skayasth/envs/pt/lib/python3.9/site-packages/torch/utils/data/sampler.py:272\u001b[0m, in \u001b[0;36mBatchSampler.__len__\u001b[0;34m(self)\u001b[0m\n\u001b[1;32m    270\u001b[0m     \u001b[38;5;28;01mreturn\u001b[39;00m \u001b[38;5;28mlen\u001b[39m(\u001b[38;5;28mself\u001b[39m\u001b[38;5;241m.\u001b[39msampler) \u001b[38;5;241m/\u001b[39m\u001b[38;5;241m/\u001b[39m \u001b[38;5;28mself\u001b[39m\u001b[38;5;241m.\u001b[39mbatch_size  \u001b[38;5;66;03m# type: ignore[arg-type]\u001b[39;00m\n\u001b[1;32m    271\u001b[0m \u001b[38;5;28;01melse\u001b[39;00m:\n\u001b[0;32m--> 272\u001b[0m     \u001b[38;5;28;01mreturn\u001b[39;00m (\u001b[38;5;28;43mlen\u001b[39;49m\u001b[43m(\u001b[49m\u001b[38;5;28;43mself\u001b[39;49m\u001b[38;5;241;43m.\u001b[39;49m\u001b[43msampler\u001b[49m\u001b[43m)\u001b[49m \u001b[38;5;241m+\u001b[39m \u001b[38;5;28mself\u001b[39m\u001b[38;5;241m.\u001b[39mbatch_size \u001b[38;5;241m-\u001b[39m \u001b[38;5;241m1\u001b[39m) \u001b[38;5;241m/\u001b[39m\u001b[38;5;241m/\u001b[39m \u001b[38;5;28mself\u001b[39m\u001b[38;5;241m.\u001b[39mbatch_size\n",
      "\u001b[0;31mTypeError\u001b[0m: object of type 'InfiniteSampler' has no len()"
     ]
    }
   ],
   "source": [
    "len(train_dataloader)"
   ]
  }
 ],
 "metadata": {
  "kernelspec": {
   "display_name": "Python 3",
   "language": "python",
   "name": "python3"
  },
  "language_info": {
   "codemirror_mode": {
    "name": "ipython",
    "version": 3
   },
   "file_extension": ".py",
   "mimetype": "text/x-python",
   "name": "python",
   "nbconvert_exporter": "python",
   "pygments_lexer": "ipython3",
   "version": "3.9.16"
  }
 },
 "nbformat": 4,
 "nbformat_minor": 2
}
